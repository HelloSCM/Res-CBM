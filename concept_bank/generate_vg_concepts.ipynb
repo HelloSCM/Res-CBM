{
 "cells": [
  {
   "cell_type": "code",
   "execution_count": null,
   "metadata": {},
   "outputs": [],
   "source": [
    "import json\n",
    "import pickle\n",
    "import numpy as np\n",
    "import torch\n",
    "import clip\n",
    "\n",
    "model, _ = clip.load('RN50', device='cuda')"
   ]
  },
  {
   "cell_type": "code",
   "execution_count": 2,
   "metadata": {},
   "outputs": [],
   "source": [
    "with open('vg/object_synsets.json', 'r') as file:\n",
    "    objects = json.load(file)\n",
    "with open('vg/attribute_synsets.json', 'r') as file:\n",
    "    attributes = json.load(file)\n",
    "with open('vg/synsets.json', 'r') as file:\n",
    "    synsets = json.load(file)\n",
    "\n",
    "vg_concepts = {}\n",
    "for c in objects.values():\n",
    "    if (c.split(\".\")[1] == 'n' or c.split(\".\")[1] == 'a') and len(c.split(\".\")[0]) > 2:\n",
    "        cpt = c.split(\".\")[0].replace(\"_\", \" \")\n",
    "        if cpt in vg_concepts:\n",
    "            vg_concepts[cpt] += 1\n",
    "        else:\n",
    "            vg_concepts[cpt] = 1\n",
    "\n",
    "for c in attributes.values():\n",
    "    if (c.split(\".\")[1] == 'n' or c.split(\".\")[1] == 'a') and len(c.split(\".\")[0]) > 2:\n",
    "        cpt = c.split(\".\")[0].replace(\"_\", \" \")\n",
    "        if cpt in vg_concepts:\n",
    "            vg_concepts[cpt] += 1\n",
    "        else:\n",
    "            vg_concepts[cpt] = 1\n",
    "\n",
    "for c in synsets:\n",
    "    if (c['synset_name'].split(\".\")[1] == 'n' or c['synset_name'].split(\".\")[1] == 'a') and len(c['synset_name'].split(\".\")[0]) > 2:\n",
    "        cpt = c['synset_name'].split(\".\")[0].replace(\"_\", \" \")\n",
    "        if cpt in vg_concepts:\n",
    "            vg_concepts[cpt] += 1\n",
    "        else:\n",
    "            vg_concepts[cpt] = 1"
   ]
  },
  {
   "cell_type": "code",
   "execution_count": 43,
   "metadata": {},
   "outputs": [],
   "source": [
    "threshold = 5\n",
    "concepts = []\n",
    "\n",
    "for cpt, times in vg_concepts.items():\n",
    "    if times >= threshold:\n",
    "        concepts.append(cpt)"
   ]
  },
  {
   "cell_type": "code",
   "execution_count": 44,
   "metadata": {},
   "outputs": [],
   "source": [
    "concept_bank = {}\n",
    "concept_length = 0\n",
    "\n",
    "with torch.no_grad():\n",
    "    for cpt in concepts:\n",
    "        text = clip.tokenize(cpt).cuda()\n",
    "        text_features = model.encode_text(text).cpu().numpy()\n",
    "        text_features = text_features / np.linalg.norm(text_features)\n",
    "        concept_bank[cpt] = text_features[0]\n",
    "        concept_length += len(cpt)\n",
    "\n",
    "concept_length = int(concept_length / len(concepts)) + 1"
   ]
  },
  {
   "cell_type": "code",
   "execution_count": 45,
   "metadata": {},
   "outputs": [],
   "source": [
    "with open(f'vg/vg_num_{len(concept_bank)}_len_{concept_length}.pkl', 'wb') as file:\n",
    "    pickle.dump(concept_bank, file)"
   ]
  }
 ],
 "metadata": {
  "kernelspec": {
   "display_name": "normal",
   "language": "python",
   "name": "python3"
  },
  "language_info": {
   "codemirror_mode": {
    "name": "ipython",
    "version": 3
   },
   "file_extension": ".py",
   "mimetype": "text/x-python",
   "name": "python",
   "nbconvert_exporter": "python",
   "pygments_lexer": "ipython3",
   "version": "3.7.13"
  }
 },
 "nbformat": 4,
 "nbformat_minor": 2
}
