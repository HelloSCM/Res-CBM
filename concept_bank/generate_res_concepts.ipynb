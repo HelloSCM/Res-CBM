{
 "cells": [
  {
   "cell_type": "code",
   "execution_count": 7,
   "metadata": {},
   "outputs": [],
   "source": [
    "import pickle\n",
    "import json\n",
    "import numpy as np\n",
    "import torch\n",
    "import clip\n",
    "\n",
    "model, preprocess = clip.load('RN50', device='cuda')"
   ]
  },
  {
   "cell_type": "code",
   "execution_count": 8,
   "metadata": {},
   "outputs": [],
   "source": [
    "with open('vg/vg_num_13936_len_9.pkl', 'rb') as file:\n",
    "    vg = pickle.load(file)\n",
    "vg_concepts = list(vg.keys())\n",
    "\n",
    "with open('vg/cav_concepts.json', 'r') as file:\n",
    "    cav = json.load(file)\n",
    "cav_concepts = cav['concepts']"
   ]
  },
  {
   "cell_type": "markdown",
   "metadata": {},
   "source": [
    "# 1. cifar 10"
   ]
  },
  {
   "cell_type": "code",
   "execution_count": 9,
   "metadata": {},
   "outputs": [],
   "source": [
    "from torchvision.datasets import CIFAR10\n",
    "dataset = CIFAR10(root='/data/.../', train=True, download=False)\n",
    "classes = list(dataset.classes)\n",
    "\n",
    "with open('cifar10/cifar10_pcbm_concepts_175.pkl', 'rb') as file:\n",
    "    pcbm = pickle.load(file)\n",
    "pcbm_concepts = list(pcbm.keys())\n",
    "\n",
    "concepts = []\n",
    "\n",
    "for cpt in cav_concepts:\n",
    "    if cpt in vg_concepts and cpt not in classes:\n",
    "        concepts.append(cpt)\n",
    "for cpt in pcbm_concepts:\n",
    "    if cpt in vg_concepts and cpt not in classes:\n",
    "        concepts.append(cpt)"
   ]
  },
  {
   "cell_type": "code",
   "execution_count": 10,
   "metadata": {},
   "outputs": [],
   "source": [
    "concept_bank = {}\n",
    "concept_length = 0\n",
    "\n",
    "with torch.no_grad():\n",
    "    for cpt in concepts:\n",
    "        text = clip.tokenize(cpt).cuda()\n",
    "        text_features = model.encode_text(text).cpu().numpy()\n",
    "        text_features = text_features / np.linalg.norm(text_features)\n",
    "        concept_bank[cpt] = text_features[0]\n",
    "        concept_length += len(cpt)\n",
    "\n",
    "concept_length = int(concept_length / len(concepts)) + 1"
   ]
  },
  {
   "cell_type": "code",
   "execution_count": 11,
   "metadata": {},
   "outputs": [],
   "source": [
    "with open(f'cifar10/cifar10_res_num_{len(concept_bank)}_len_{concept_length}.pkl', 'wb') as file:\n",
    "    pickle.dump(concept_bank, file)"
   ]
  },
  {
   "cell_type": "markdown",
   "metadata": {},
   "source": [
    "# 2. CIFAR 100"
   ]
  },
  {
   "cell_type": "code",
   "execution_count": 12,
   "metadata": {},
   "outputs": [],
   "source": [
    "from torchvision.datasets import CIFAR100\n",
    "dataset = CIFAR100(root='/data/scm22/', train=True, download=False)\n",
    "classes = list(dataset.classes)\n",
    "\n",
    "with open('cifar100/cifar100_pcbm_concepts_440.pkl', 'rb') as file:\n",
    "    pcbm = pickle.load(file)\n",
    "pcbm_concepts = list(pcbm.keys())\n",
    "\n",
    "concepts = []\n",
    "\n",
    "for cpt in cav_concepts:\n",
    "    if cpt in vg_concepts and cpt not in classes:\n",
    "        concepts.append(cpt)\n",
    "for cpt in pcbm_concepts:\n",
    "    if cpt in vg_concepts and cpt not in classes:\n",
    "        concepts.append(cpt)"
   ]
  },
  {
   "cell_type": "code",
   "execution_count": 13,
   "metadata": {},
   "outputs": [],
   "source": [
    "concept_bank = {}\n",
    "concept_length = 0\n",
    "\n",
    "with torch.no_grad():\n",
    "    for cpt in concepts:\n",
    "        text = clip.tokenize(cpt).cuda()\n",
    "        text_features = model.encode_text(text).cpu().numpy()\n",
    "        text_features = text_features / np.linalg.norm(text_features)\n",
    "        concept_bank[cpt] = text_features[0]\n",
    "        concept_length += len(cpt)\n",
    "\n",
    "concept_length = int(concept_length / len(concepts)) + 1"
   ]
  },
  {
   "cell_type": "code",
   "execution_count": 14,
   "metadata": {},
   "outputs": [],
   "source": [
    "with open(f'cifar100/cifar100_res_num_{len(concept_bank)}_len_{concept_length}.pkl', 'wb') as file:\n",
    "    pickle.dump(concept_bank, file)"
   ]
  }
 ],
 "metadata": {
  "kernelspec": {
   "display_name": "normal",
   "language": "python",
   "name": "python3"
  },
  "language_info": {
   "codemirror_mode": {
    "name": "ipython",
    "version": 3
   },
   "file_extension": ".py",
   "mimetype": "text/x-python",
   "name": "python",
   "nbconvert_exporter": "python",
   "pygments_lexer": "ipython3",
   "version": "3.7.13"
  }
 },
 "nbformat": 4,
 "nbformat_minor": 2
}
